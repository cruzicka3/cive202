{
 "cells": [
  {
   "cell_type": "markdown",
   "id": "55817013-1a57-4748-91d8-e44c7a2ce52d",
   "metadata": {},
   "source": [
    "## Lab #4 - Pint Package and Python as a Calculator"
   ]
  },
  {
   "cell_type": "markdown",
   "id": "749b4be0-f307-4e13-a75a-3ffaaf90025c",
   "metadata": {},
   "source": [
    "In this lab, we'll learn how to import a new package `pint` that allows us to handle units.  If we plan to use Python to help us as a calculator for statics or structures problems, we need to keep track of our units and unit conversions.  `pint` it a GitHub package, meaning it was developed by a data scientist who does not directly work for Python, but has enough experience in coding to have developed functions that other programmers can use.  First, we will install our necessary packages for this Project, including `pint` which needs to be installed a slightly different way from the way that we normally import packages"
   ]
  },
  {
   "cell_type": "code",
   "execution_count": null,
   "id": "bf54fa3f-efa2-42a1-91c0-54f1f83d2736",
   "metadata": {},
   "outputs": [],
   "source": [
    "!pip install pint\n",
    "\n",
    "##The line of commented code above only needs to be run once!  This command tells Python we are looking to install a very specific package from \n",
    "## an external source (GitHub) and that we want our Jupyter Notebook to be able to access the objects, functions and modules present in the package.\n",
    "\n",
    "import numpy as np\n",
    "from pint import UnitRegistry\n",
    "\n",
    "## Next, we create what is known as a unit registry object using pint \n",
    "\n",
    "# Create a unit registry object in pint\n",
    "ureg = UnitRegistry()\n",
    "print(ureg)"
   ]
  },
  {
   "cell_type": "markdown",
   "id": "71447c42-c863-436b-9527-138ec5821452",
   "metadata": {},
   "source": [
    "You'll notice that if you print the `ureg` object you named that you get an object out.  This is telling you that Python recognizes you have created an object using the `pint` package.  "
   ]
  },
  {
   "cell_type": "markdown",
   "id": "ae72d5ed-e1c1-44dd-85a8-6698a514bf8e",
   "metadata": {},
   "source": [
    "Pint is a package for introducing units to analysis in Python. It works on top of the numpy (numerical Python) library, so it can handle basic mathematical functions while also understanding their units. The default units available in available in pint are given here. Although, you may define your own units."
   ]
  },
  {
   "cell_type": "markdown",
   "id": "161e5f39-0f81-4811-b0a1-61ae34acc7a4",
   "metadata": {},
   "source": [
    "## Units Practice with Pint"
   ]
  },
  {
   "cell_type": "markdown",
   "id": "b2e8a86d-4db0-4ea9-8ef8-bc20ab996c25",
   "metadata": {},
   "source": [
    "Let's try a couple of practice problems with units using `pint`"
   ]
  },
  {
   "cell_type": "markdown",
   "id": "add79c11-a97b-480c-a859-1fd16e3d0d5f",
   "metadata": {},
   "source": [
    "#### Problem 1: Simple Statics units\n",
    "Let's start with a basic example of converting between common static problem units.\n",
    "\n",
    "Convert (a) $200 lb \\cdot ft$ to $N \\cdot m$, (b) $350 lb / ft^3$ to $kN / m^3$"
   ]
  },
  {
   "cell_type": "code",
   "execution_count": null,
   "id": "651fbaa2-2f45-4d74-921f-13e33422c6c6",
   "metadata": {},
   "outputs": [],
   "source": [
    "# ureg.** is pint syntax to define the units of a variable/quantity\n",
    "\n",
    "##Start by defining the original values and units for a and b using the .ureg notation\n",
    "a = 200 * ureg.lbf * ureg.ft \n",
    "\n",
    "b = 350 * ureg.lbf / ureg.ft**3 \n",
    "\n",
    "# {0} is a string formatting expression. It takes the 0th element given in the .format() function input and inserts it into the string.\n",
    "# {0.magnitude} accesses the magnitude attribute of the \"a\" pint quantity object\n",
    "\n",
    "##This syntax prints out a and b in a nice format that pint will understand in future work\n",
    "print('The magnitude of quantity a is {0.magnitude} with units {0.units}.'.format(a))\n",
    "print('The magnitude of quantity b is {0.magnitude} with units {0.units}.'.format(b))"
   ]
  },
  {
   "cell_type": "markdown",
   "id": "01ed28d4-069a-49ff-9d89-5b1d90c43c80",
   "metadata": {},
   "source": [
    "Now, in order to convert, we will use the `pint` `.to()` function"
   ]
  },
  {
   "cell_type": "code",
   "execution_count": null,
   "id": "e5091b2c-b618-4c64-a95c-77f0dd7db883",
   "metadata": {},
   "outputs": [],
   "source": [
    "##Convert a to Nm and convert b to kNm^3\n",
    "a_new = a.to(ureg.newton * ureg.m)\n",
    "b_new = b.to(ureg.kilonewton / ureg.m**3)\n",
    "\n",
    "# {0.magnitude:.2f} accesses the magnitude attribute of the \"a\" pint quantity object. \n",
    "# By adding :.2f, we tell the print function to round the number to 2 decimal places.\n",
    "print('The magnitude of quantity a in metric units is {0.magnitude:.2f} with units {0.units}.'.format(a_new))\n",
    "print('The magnitude of quantity b in metric units is {0.magnitude:.2f} with units {0.units}.'.format(b_new))"
   ]
  },
  {
   "cell_type": "markdown",
   "id": "67ba3f83-190d-4977-b589-ee7216ef40c0",
   "metadata": {},
   "source": [
    "#### Problem 2: SI to English Units"
   ]
  },
  {
   "cell_type": "markdown",
   "id": "db2a37fc-d056-4499-aa46-df4592f4cccc",
   "metadata": {},
   "source": [
    "Try this on your own first!  Let's convert between SI (metric) and English (customary) units for the following problems:\n",
    "a.) Mass Flow Rate: Convert 56.7 kg/s to lb/min"
   ]
  },
  {
   "cell_type": "code",
   "execution_count": null,
   "id": "15de3cb1-6fa9-4fd6-ac05-ad283b698a0f",
   "metadata": {},
   "outputs": [],
   "source": []
  },
  {
   "cell_type": "markdown",
   "id": "91de0b78-02dd-48ba-87eb-c74142cc6db5",
   "metadata": {},
   "source": [
    "b.) Volume: Convert 40 gallons to liters"
   ]
  },
  {
   "cell_type": "code",
   "execution_count": null,
   "id": "94bfd4e3-bc2d-457e-a5ba-1a94ee601b6b",
   "metadata": {},
   "outputs": [],
   "source": []
  },
  {
   "cell_type": "markdown",
   "id": "b64daa36-716a-4394-87b4-69c2e7d1aa75",
   "metadata": {},
   "source": [
    "c.) Pressure: Convert 101325 Pascals to atmospheres"
   ]
  },
  {
   "cell_type": "code",
   "execution_count": null,
   "id": "cc92cd75-e098-498d-ae91-78c89220024d",
   "metadata": {},
   "outputs": [],
   "source": []
  },
  {
   "cell_type": "markdown",
   "id": "3ceff969-31de-4a8b-8aa1-5b6c81b05e55",
   "metadata": {},
   "source": [
    "## Practice Statics Problem"
   ]
  },
  {
   "cell_type": "code",
   "execution_count": null,
   "id": "188982d5-1b07-41d6-9ca6-1168fd03ee08",
   "metadata": {},
   "outputs": [],
   "source": [
    "from PIL import Image\n",
    "from IPython.display import display\n",
    "prob1 = Image.open('Problem #1.png')\n",
    "display(prob1)"
   ]
  },
  {
   "cell_type": "markdown",
   "id": "f0c2bd83-0d94-4ba6-9c43-b35fd0a1d26f",
   "metadata": {},
   "source": [
    "Problem 2-58: Three forces act on the bracket.  Determine the magnitude and direction theta of F so that the resultant force is directed along the postive x' axis and has a magnitude of 8 kN"
   ]
  },
  {
   "cell_type": "markdown",
   "id": "a18b1bf6-8026-44e5-ba74-b8b4cd2819f9",
   "metadata": {},
   "source": [
    "The Solution to this problem is as follows:"
   ]
  },
  {
   "cell_type": "code",
   "execution_count": null,
   "id": "d5ce1d0c-514f-4a3f-9399-e405a0838e11",
   "metadata": {},
   "outputs": [],
   "source": [
    "prob1_solution = Image.open('Problem#1_Solution.png')\n",
    "display(prob1_solution)"
   ]
  },
  {
   "cell_type": "markdown",
   "id": "ed77032f-7dfb-4b98-8145-e3745e40edd7",
   "metadata": {},
   "source": [
    "#### Step 1: Setup the problem\n",
    "Let's start this problem by first defining variables and objects for the quantifies that we know given the problem statement"
   ]
  },
  {
   "cell_type": "code",
   "execution_count": null,
   "id": "149e2ff6-9c77-4b2a-99ff-ab45cb9845fb",
   "metadata": {},
   "outputs": [],
   "source": []
  },
  {
   "cell_type": "markdown",
   "id": "e0c999e5-cec3-447b-be3d-0bb6ad7c0a5d",
   "metadata": {},
   "source": [
    "#### Step 2: Set up a Force Equilibrium"
   ]
  },
  {
   "cell_type": "markdown",
   "id": "8e43174d-4ec3-4324-82f6-fb1b4e1c3be4",
   "metadata": {},
   "source": [
    "Use `NumPy`'s built in trig functions for `sin()`, `cos()` and `tan()` and set up equilibirum in both the x and y directions.  We can then use these equilibrium equations to solve for the resultant force (F3) components in both the x and y directions."
   ]
  },
  {
   "cell_type": "code",
   "execution_count": null,
   "id": "4e93d22e-6305-4362-9869-2472c69d51ca",
   "metadata": {},
   "outputs": [],
   "source": [
    "# Cos() can be uniformly used if we define all angles from the same axis and\n",
    "# make appropriate adjustments from the figure\n"
   ]
  },
  {
   "cell_type": "code",
   "execution_count": null,
   "id": "cd5cdea2-12e5-4f44-9c57-100b64366d3f",
   "metadata": {},
   "outputs": [],
   "source": []
  },
  {
   "cell_type": "markdown",
   "id": "c87e2f4b-c79e-4480-969a-c9b00ab5a2ca",
   "metadata": {},
   "source": [
    "Take a pause here!  Do these numbers match the solution we were given?"
   ]
  },
  {
   "cell_type": "markdown",
   "id": "015b3d11-6676-456f-b023-56a3dd6702cb",
   "metadata": {},
   "source": [
    "#### Step 3: Solve for the two requested quantities"
   ]
  },
  {
   "cell_type": "markdown",
   "id": "3b993f26-9582-43eb-9788-055c9182d312",
   "metadata": {},
   "source": [
    "Next, let's find the angle of the resultant force.  What happens when we divide the `F_3_x` force we found by the `F_3_y` force?  Well `F_3_x` is representing the total resultant force (F3) in the x direction, which means that by our sign convention, `F_3_x` = `F sin(theta)`.  The same goes for the y direction but instead of having sine, we have cosine.  Therefore `F_3_y` = `F cos(theta)`.  If we divide `F sin(theta)` by `F cos(theta)` the F term cancels and we end up with `tan(theta)`."
   ]
  },
  {
   "cell_type": "markdown",
   "id": "e8bfdba4-b4a2-434f-93e6-9eb937763fd4",
   "metadata": {},
   "source": [
    "Okay!  This tells us that if we want to get `theta` which is our resultant angle, we need to take the `arctan()` of `F_3_x/F_3_y`.  So that is the line of code that we need to write.  We'll need to remember that our convention is to measure an angle from the positive x-axis."
   ]
  },
  {
   "cell_type": "code",
   "execution_count": null,
   "id": "f49ad855-efd9-4bb2-adfa-5345badb8f47",
   "metadata": {},
   "outputs": [],
   "source": []
  },
  {
   "cell_type": "markdown",
   "id": "7be14652-5ec6-47b6-8c20-18bd9f8725f6",
   "metadata": {},
   "source": [
    "Double check with the solutions.  Is this correct?"
   ]
  },
  {
   "cell_type": "markdown",
   "id": "1c482c50-0e58-40e7-a278-1c738b5a9f66",
   "metadata": {},
   "source": [
    "Now let's find the resultant force `F3`.  If `F_3_x = F_3*sin(theta3)` then we can rearrange to solve for `F_3`.  Note, you could also do this with `F_3_y` and `cos()` and you should get the same answer.  Hint: This might be a good way to check if your code is working correctly."
   ]
  },
  {
   "cell_type": "code",
   "execution_count": null,
   "id": "5b7ec12a-0bd6-43ae-9fa1-f808bd4cef82",
   "metadata": {},
   "outputs": [],
   "source": []
  },
  {
   "cell_type": "raw",
   "id": "c60d710a-2cc7-4455-868c-be79aa137172",
   "metadata": {},
   "source": []
  },
  {
   "cell_type": "markdown",
   "id": "7188035f-a092-4aee-871e-b285ef73dbf5",
   "metadata": {},
   "source": [
    "#### Turn the procedure into a Function\n",
    "Turning our work above into a function gives us more flexibility to solve problems.  Right now, we can only solve one problem, the problem where the resultant force is 8kN.  But what if we wanted to try different forces?  What if we wanted to play with multiple configurations to see which is the best?  This is where functions come in; they let you automate the calculations and inputs such that you can run all sorts of simulations, and that is the heart of good engineering design."
   ]
  },
  {
   "cell_type": "code",
   "execution_count": null,
   "id": "54b2dca2-d4ac-40cf-8d74-86e5d887bcd6",
   "metadata": {},
   "outputs": [],
   "source": [
    "# Define a function that takes force and angle inputs, then outputs a force and angle for \n",
    "# force vector 3\n",
    "\n",
    "def calc_force_angle():\n",
    "\n",
    "    \n",
    "    # Calculate theta_3\n",
    "\n",
    "    \n",
    "    # Calculate F_3\n",
    "\n",
    "    \n",
    "    # Return the angle (th_3) and force (F_3)\n"
   ]
  },
  {
   "cell_type": "code",
   "execution_count": null,
   "id": "fc961834-0ddb-4521-9432-0e35b46d5537",
   "metadata": {},
   "outputs": [],
   "source": []
  }
 ],
 "metadata": {
  "kernelspec": {
   "display_name": "anaconda-panel-2023.05-py310",
   "language": "python",
   "name": "conda-env-anaconda-panel-2023.05-py310-py"
  },
  "language_info": {
   "codemirror_mode": {
    "name": "ipython",
    "version": 3
   },
   "file_extension": ".py",
   "mimetype": "text/x-python",
   "name": "python",
   "nbconvert_exporter": "python",
   "pygments_lexer": "ipython3",
   "version": "3.11.5"
  }
 },
 "nbformat": 4,
 "nbformat_minor": 5
}
