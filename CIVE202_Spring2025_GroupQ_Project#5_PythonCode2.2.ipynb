{
 "cells": [
  {
   "cell_type": "markdown",
   "id": "9853ba72-13af-4e5f-97ee-bb04436dfd23",
   "metadata": {},
   "source": [
    "# Project #5"
   ]
  },
  {
   "cell_type": "markdown",
   "id": "eec75e54-82bd-4733-8b63-2bc8224ddb32",
   "metadata": {},
   "source": [
    "Group Members: Emma Vondra, Evyn Shafer, Sammy Ullman, Caitey Ruzicka"
   ]
  },
  {
   "cell_type": "markdown",
   "id": "33092b68-b311-4bfa-b193-50c1b7e9bd7a",
   "metadata": {},
   "source": [
    "Convert an excel spreadsheet used by NDOT for concrete mix design into a Python tool. The goal is for the tool to create four different mix designs. "
   ]
  },
  {
   "cell_type": "markdown",
   "id": "50e92f59-fda7-4497-a4e6-9b66ed9053a6",
   "metadata": {},
   "source": [
    "## Import Packages"
   ]
  },
  {
   "cell_type": "code",
   "execution_count": 1,
   "id": "8bcdae36-d556-4ef4-a5fe-05d23a4cd98b",
   "metadata": {},
   "outputs": [],
   "source": [
    "#Import necessary packages\n",
    "import pandas as pd\n",
    "import numpy as np\n",
    "import matplotlib.pyplot as plt\n",
    "import seaborn as sns\n"
   ]
  },
  {
   "cell_type": "markdown",
   "id": "dd3cf549-db2b-411e-a6e1-fc4460c538c1",
   "metadata": {},
   "source": [
    "## Convert and read excel sheet in python"
   ]
  },
  {
   "cell_type": "code",
   "execution_count": 2,
   "id": "85201c26-6f68-4e66-ae5b-eb6d557bc467",
   "metadata": {},
   "outputs": [],
   "source": [
    "ndot = pd.read_csv('mix-design-submittal.csv')"
   ]
  },
  {
   "cell_type": "markdown",
   "id": "d4acdfb9-694b-44fe-a461-7aa638c4101d",
   "metadata": {},
   "source": [
    "## Creating and defining a function to create mix designs\n",
    "\n",
    "\n",
    "\n",
    "\n",
    "\n"
   ]
  },
  {
   "cell_type": "code",
   "execution_count": 3,
   "id": "1c8eaf3d-2a7d-414d-8ef9-29f67aeee72e",
   "metadata": {},
   "outputs": [
    {
     "name": "stdin",
     "output_type": "stream",
     "text": [
      "Enter the weight of cement per cubic yard: 40\n",
      "Enter the weight of fly ash in cubic yard 30\n",
      "Enter the weight of silica fume per cubic yard: 20\n",
      "Enter the weight of SCM per cubic yard: 15\n",
      "Enter the target water/cement ratio: 0.15\n",
      "Enter the target % of air content: 6\n",
      "Enter the target % of fine aggregate: 30\n",
      "Enter the target % of coarse aggregate: 20\n",
      "Enter the target % of other aggregate: 15\n",
      "Enter the specific gravity of cement: 0.12\n",
      "Enter the specific gravity of fly ash: 0.13\n",
      "Enter the specific gravity of silica fume: 0.14\n",
      "Enter the specific gravity of other SCM: 0.15\n",
      "Enter the specific gravity of fine aggregate: 0.16\n",
      "Enter the specific gravity of coarse aggregate: 0.17\n",
      "Enter the specific gravity of other aggregate: 0.18\n"
     ]
    },
    {
     "name": "stdout",
     "output_type": "stream",
     "text": [
      "Contractor Target Mix Design Weights for 1 Cubic Yard:\n",
      "Cement: 40\n",
      "Fly Ash: 30\n",
      "Silica Fume: 20\n",
      "Other SCM: 15\n",
      "Fine Aggregate: 36.52811006593407\n",
      "Coarse Aggregate: 25.87407796336997\n",
      "Other Aggregate: 20.547061912087912\n",
      "Water: 15.75\n"
     ]
    }
   ],
   "source": [
    "# User Input: Target Amounts\n",
    "A = int(input(\"Enter the weight of cement per cubic yard:\"))\n",
    "B = int(input(\"Enter the weight of fly ash in cubic yard\"))\n",
    "C = int(input(\"Enter the weight of silica fume per cubic yard:\"))\n",
    "D = int(input(\"Enter the weight of SCM per cubic yard:\"))\n",
    "E = float(input(\"Enter the target water/cement ratio:\"))\n",
    "F = int(input(\"Enter the target % of air content:\"))\n",
    "G = int(input(\"Enter the target % of fine aggregate:\"))\n",
    "H = int(input(\"Enter the target % of coarse aggregate:\"))\n",
    "I = int(input(\"Enter the target % of other aggregate:\"))\n",
    "\n",
    "# User Input: Specific Gravity Values\n",
    "J = float(input(\"Enter the specific gravity of cement:\"))\n",
    "K = float(input(\"Enter the specific gravity of fly ash:\"))\n",
    "L = float(input(\"Enter the specific gravity of silica fume:\"))\n",
    "M = float(input(\"Enter the specific gravity of other SCM:\"))\n",
    "N = float(input(\"Enter the specific gravity of fine aggregate:\"))\n",
    "O = float(input(\"Enter the specific gravity of coarse aggregate:\"))\n",
    "P = float(input(\"Enter the specific gravity of other aggregate:\"))\n",
    "\n",
    "# Create a function to automate the mix design\n",
    "def mix_design(A, B, C, D, E, F, G, H, I, J, K, L, M, N, O, P):\n",
    "    Q = (A + B + C + D) * E # weight of water\n",
    "    R = A / (J*62.4) #volume of cement (ft^3)\n",
    "    S = B / (K*62.4) #volume of flyash  (ft^3)\n",
    "    T = C / (L*62.4) # volume of silica fume (ft^3)\n",
    "    U = D / (M*62.4) # volume of other SCM (ft^3)\n",
    "    V = (F/100) * 27 # volume of air (ft^3)\n",
    "    W = Q / 62.4 # volume of water (ft^3)\n",
    "    X = 27 - R - S - T - U - V - W # volume of total aggregate\n",
    "    Y = (62.4 * (G/100)*N*X) #weight of fine aggregate\n",
    "    Z = (62.4 * (H/100)*O*X) # weight of coarse aggregate\n",
    "    AA = (62.4 * (I/100)*P*X) # weight of other aggregate\n",
    "    return(A, B, C, D, Y, Z, AA, Q)\n",
    "\n",
    "# Utilize Function for Mix Design\n",
    "cement, fly_ash, silica_fume, other_scm, fine_aggregate, coarse_aggregate, other_aggregate, water = mix_design(A, B, C, D, E, F, G, H, I, J, K, L, M, N, O, P)\n",
    "\n",
    "# Print Target Mix Design\n",
    "print(\"Contractor Target Mix Design Weights for 1 Cubic Yard:\")\n",
    "print('Cement: {}'.format(cement))\n",
    "print('Fly Ash: {}'.format(fly_ash))\n",
    "print('Silica Fume: {}'.format(silica_fume))\n",
    "print('Other SCM: {}'.format(other_scm))\n",
    "print('Fine Aggregate: {}'.format(fine_aggregate))\n",
    "print('Coarse Aggregate: {}'.format(coarse_aggregate))\n",
    "print('Other Aggregate: {}'.format(other_aggregate))\n",
    "print('Water: {}'.format(water))"
   ]
  },
  {
   "cell_type": "markdown",
   "id": "221325fe-3d54-45dc-9de6-3cc077e2c452",
   "metadata": {},
   "source": [
    "## Create scatterplots for the mix designs and compare results\n",
    "\n",
    "\n",
    "\n",
    "\n",
    "\n",
    "\n"
   ]
  },
  {
   "cell_type": "markdown",
   "id": "e58df1ca-1ee3-4170-9a98-9fdb331df38d",
   "metadata": {},
   "source": [
    "### Mix Design 1\n"
   ]
  },
  {
   "cell_type": "code",
   "execution_count": 71,
   "id": "b17e2dde-6c6f-4fc5-921b-8dbb818b7a6e",
   "metadata": {},
   "outputs": [
    {
     "name": "stdout",
     "output_type": "stream",
     "text": [
      "15.75\n",
      "40\n",
      "Contractor Target Mix Design Weights for 1 Cubic Yard:\n",
      "Cement: 65 lb\n",
      "Fly Ash: 30 lb\n",
      "Silica Fume: 20 lb\n",
      "Other SCM: 15 lb\n",
      "Fine Aggregate: 36.52811006593407 lb\n",
      "Coarse Aggregate: 25.87407796336997 lb\n",
      "Other Aggregate: 20.547061912087912 lb\n",
      "Water: 15.75 lb\n"
     ]
    }
   ],
   "source": [
    "# User Input: Target Amounts\n",
    "A1 = 40\n",
    "B = 30\n",
    "C = 20\n",
    "D = 15\n",
    "E = 0.15\n",
    "F = 6.0\n",
    "G = 30\n",
    "H = 20\n",
    "I = 15\n",
    "\n",
    "# User Input: Specific Gravity Values\n",
    "J = 0.12\n",
    "K = 0.13\n",
    "L = 0.14\n",
    "M = 0.15\n",
    "N = 0.16\n",
    "O = 0.17\n",
    "P = 0.18\n",
    "Q1 = (A1 + B + C + D) * E # weight of water\n",
    "# Create a function to automate the mix design\n",
    "def mix_design(A1, B, C, D, E, F, G, H, I, J, K, L, M, N, O, P, Q1):\n",
    "  \n",
    "    R = A1 / (J*62.4) #volume of cement (ft^3)\n",
    "    S = B / (K*62.4) #volume of flyash  (ft^3)\n",
    "    T = C / (L*62.4) # volume of silica fume (ft^3)\n",
    "    U = D / (M*62.4) # volume of other SCM (ft^3)\n",
    "    V = (F/100) * 27 # volume of air (ft^3)\n",
    "    W = Q1 / 62.4 # volume of water (ft^3)\n",
    "    X = 27 - R - S - T - U - V - W # volume of total aggregate\n",
    "    Y = (62.4 * (G/100)*N*X) #weight of fine aggregate\n",
    "    Z = (62.4 * (H/100)*O*X) # weight of coarse aggregate\n",
    "    AA = (62.4 * (I/100)*P*X) # weight of other aggregate\n",
    "    return(A, B, C, D, Y, Z, AA, Q1)\n",
    "\n",
    "print(Q1)\n",
    "print(A1)\n",
    "\n",
    "# Utilize Function for Mix Design\n",
    "cement, fly_ash, silica_fume, other_scm, fine_aggregate, coarse_aggregate, other_aggregate, water = mix_design(A1, B, C, D, E, F, G, H, I, J, K, L, M, N, O, P, Q1)\n",
    "\n",
    "# Print Target Mix Design\n",
    "print(\"Contractor Target Mix Design Weights for 1 Cubic Yard:\")\n",
    "print('Cement: {} lb'.format(cement))\n",
    "print('Fly Ash: {} lb'.format(fly_ash))\n",
    "print('Silica Fume: {} lb'.format(silica_fume))\n",
    "print('Other SCM: {} lb'.format(other_scm))\n",
    "print('Fine Aggregate: {} lb'.format(fine_aggregate))\n",
    "print('Coarse Aggregate: {} lb'.format(coarse_aggregate))\n",
    "print('Other Aggregate: {} lb'.format(other_aggregate))\n",
    "print('Water: {} lb'.format(water))\n"
   ]
  },
  {
   "cell_type": "code",
   "execution_count": 72,
   "id": "8b58d414-9ed6-4586-9a0f-edd205d01804",
   "metadata": {},
   "outputs": [
    {
     "name": "stdout",
     "output_type": "stream",
     "text": [
      "0.39375\n"
     ]
    }
   ],
   "source": [
    "wc_ratio=(Q1/A1)\n",
    "print(wc_ratio)"
   ]
  },
  {
   "cell_type": "markdown",
   "id": "869f8eb1-9a71-4c07-b4b0-1167d63923fb",
   "metadata": {},
   "source": [
    "## Mix Desig"
   ]
  },
  {
   "cell_type": "code",
   "execution_count": 112,
   "id": "0dc1c6c8-ebfd-46a9-94cb-ebe24a42021b",
   "metadata": {},
   "outputs": [
    {
     "name": "stdout",
     "output_type": "stream",
     "text": [
      "15.0\n",
      "50\n",
      "Contractor Target Mix Design Weights for 1 Cubic Yard:\n",
      "Cement: 50 lb\n",
      "Fly Ash: 50 lb\n",
      "Silica Fume: 15 lb\n",
      "Other SCM: 10 lb\n",
      "Fine Aggregate: 17.139223929824563 lb\n",
      "Coarse Aggregate: 24.484605614035086 lb\n",
      "Other Aggregate: 26.933066175438594 lb\n",
      "Water: 15.0 lb\n"
     ]
    }
   ],
   "source": [
    "# User Input: Target Amounts\n",
    "A2 = 50\n",
    "B = 50\n",
    "C = 25\n",
    "D = 10\n",
    "E = 0.12\n",
    "F = 6.0\n",
    "G = 15\n",
    "H = 20\n",
    "I = 30\n",
    "\n",
    "# User Input: Specific Gravity Values\n",
    "J = 0.18\n",
    "K = 0.16\n",
    "L = 0.19\n",
    "M = 0.12\n",
    "N = 0.14\n",
    "O = 0.15\n",
    "P = 0.11\n",
    "Q2 = (A2 + B + C + D) * E # weight of water\n",
    "\n",
    "# Create a function to automate the mix design\n",
    "def mix_design(A2, B, C, D, E, F, G, H, I, J, K, L, M, N, O, P, Q2):\n",
    "\n",
    "    R = A2 / (J*62.4) #volume of cement (ft^3)\n",
    "    S = B / (K*62.4) #volume of flyash  (ft^3)\n",
    "    T = C / (L*62.4) # volume of silica fume (ft^3)\n",
    "    U = D / (M*62.4) # volume of other SCM (ft^3)\n",
    "    V = (F/100) * 27 # volume of air (ft^3)\n",
    "    W = Q2 / 62.4 # volume of water (ft^3)\n",
    "    X = 27 - R - S - T - U - V - W # volume of total aggregate\n",
    "    Y = (62.4 * (G/100)*N*X) #weight of fine aggregate\n",
    "    Z = (62.4 * (H/100)*O*X) # weight of coarse aggregate\n",
    "    AA = (62.4 * (I/100)*P*X) # weight of other aggregate\n",
    "    return(A2, B, C, D, Y, Z, AA, Q2)\n",
    "print(Q2)\n",
    "print(A2)\n",
    "\n",
    "# Utilize Function for Mix Design\n",
    "cement, fly_ash, silica_fume, other_scm, fine_aggregate, coarse_aggregate, other_aggregate, water = mix_design(A2, B, C, D, E, F, G, H, I, J, K, L, M, N, O, P, Q2)\n",
    "\n",
    "# Print Target Mix Design\n",
    "print(\"Contractor Target Mix Design Weights for 1 Cubic Yard:\")\n",
    "print('Cement: {} lb'.format(cement))\n",
    "print('Fly Ash: {} lb'.format(fly_ash))\n",
    "print('Silica Fume: {} lb'.format(silica_fume))\n",
    "print('Other SCM: {} lb'.format(other_scm))\n",
    "print('Fine Aggregate: {} lb'.format(fine_aggregate))\n",
    "print('Coarse Aggregate: {} lb'.format(coarse_aggregate))\n",
    "print('Other Aggregate: {} lb'.format(other_aggregate))\n",
    "print('Water: {} lb'.format(water))\n",
    "\n"
   ]
  },
  {
   "cell_type": "code",
   "execution_count": 113,
   "id": "1d713aee-ed45-45de-a5b4-f008fbf8b000",
   "metadata": {},
   "outputs": [
    {
     "name": "stdout",
     "output_type": "stream",
     "text": [
      "0.3\n"
     ]
    }
   ],
   "source": [
    "wc_ratio2=(Q2/A2)\n",
    "print(wc_ratio2)"
   ]
  },
  {
   "cell_type": "markdown",
   "id": "42bd9560-5064-4c94-9651-d2339dcb5a9c",
   "metadata": {},
   "source": [
    "## Mix Design 3"
   ]
  },
  {
   "cell_type": "code",
   "execution_count": 114,
   "id": "ddc87f7f-79b3-472d-8b79-af86b61a7df0",
   "metadata": {},
   "outputs": [
    {
     "name": "stdout",
     "output_type": "stream",
     "text": [
      "26.25\n",
      "60\n",
      "Contractor Target Mix Design Weights for 1 Cubic Yard:\n",
      "Cement: 60 lb\n",
      "Fly Ash: 20 lb\n",
      "Silica Fume: 10 lb\n",
      "Other SCM: 15 lb\n",
      "Fine Aggregate: 63.69717222585197 lb\n",
      "Coarse Aggregate: 43.22308115325669 lb\n",
      "Other Aggregate: 16.37927285807622 lb\n",
      "Water: 26.25 lb\n"
     ]
    }
   ],
   "source": [
    "# User Input: Target Amounts\n",
    "A3 = 60\n",
    "B = 20\n",
    "C = 10\n",
    "D = 15\n",
    "E = 0.25\n",
    "F = 6.8\n",
    "G = 50\n",
    "H = 25\n",
    "I = 15\n",
    "\n",
    "# User Input: Specific Gravity Values\n",
    "J = 0.16\n",
    "K = 0.18\n",
    "L = 0.145\n",
    "M = 0.19\n",
    "N = 0.14\n",
    "O = 0.19\n",
    "P = 0.12\n",
    "Q3 = (A3 + B + C + D) * E # weight of water\n",
    "\n",
    "# Create a function to automate the mix design\n",
    "def mix_design(A3, B, C, D, E, F, G, H, I, J, K, L, M, N, O, P, Q3):\n",
    "   \n",
    "    R = A3 / (J*62.4) #volume of cement (ft^3)\n",
    "    S = B / (K*62.4) #volume of flyash  (ft^3)\n",
    "    T = C / (L*62.4) # volume of silica fume (ft^3)\n",
    "    U = D / (M*62.4) # volume of other SCM (ft^3)\n",
    "    V = (F/100) * 27 # volume of air (ft^3)\n",
    "    W = Q3 / 62.4 # volume of water (ft^3)\n",
    "    X = 27 - R - S - T - U - V - W # volume of total aggregate\n",
    "    Y = (62.4 * (G/100)*N*X) #weight of fine aggregate\n",
    "    Z = (62.4 * (H/100)*O*X) # weight of coarse aggregate\n",
    "    AA = (62.4 * (I/100)*P*X) # weight of other aggregate\n",
    "    return(A3, B, C, D, Y, Z, AA, Q3)\n",
    "\n",
    "print(Q3)\n",
    "print(A3)\n",
    "\n",
    "# Utilize Function for Mix Design\n",
    "cement, fly_ash, silica_fume, other_scm, fine_aggregate, coarse_aggregate, other_aggregate, water = mix_design(A3, B, C, D, E, F, G, H, I, J, K, L, M, N, O, P, Q3)\n",
    "\n",
    "# Print Target Mix Design\n",
    "print(\"Contractor Target Mix Design Weights for 1 Cubic Yard:\")\n",
    "print('Cement: {} lb'.format(cement))\n",
    "print('Fly Ash: {} lb'.format(fly_ash))\n",
    "print('Silica Fume: {} lb'.format(silica_fume))\n",
    "print('Other SCM: {} lb'.format(other_scm))\n",
    "print('Fine Aggregate: {} lb'.format(fine_aggregate))\n",
    "print('Coarse Aggregate: {} lb'.format(coarse_aggregate))\n",
    "print('Other Aggregate: {} lb'.format(other_aggregate))\n",
    "print('Water: {} lb'.format(water))\n"
   ]
  },
  {
   "cell_type": "code",
   "execution_count": 115,
   "id": "f0e1b2b7-f7ed-4a8f-9c40-2182a69ed797",
   "metadata": {},
   "outputs": [
    {
     "name": "stdout",
     "output_type": "stream",
     "text": [
      "[0.39375, 0.42, 0.4375, 0.8615384615384616]\n"
     ]
    }
   ],
   "source": [
    "wc_ratio3=(Q3/A3)\n",
    "print(wc_ratio)"
   ]
  },
  {
   "cell_type": "markdown",
   "id": "996fb817-5b0a-46e7-9ffa-7d4296f95ace",
   "metadata": {},
   "source": [
    "## Mix Design 4"
   ]
  },
  {
   "cell_type": "code",
   "execution_count": 116,
   "id": "63e3116d-b0cb-4a6d-812d-ad2e9b964aeb",
   "metadata": {},
   "outputs": [
    {
     "name": "stdout",
     "output_type": "stream",
     "text": [
      "56.0\n",
      "65\n",
      "Contractor Target Mix Design Weights for 1 Cubic Yard:\n",
      "Cement: 65 lb\n",
      "Fly Ash: 20 lb\n",
      "Silica Fume: 30 lb\n",
      "Other SCM: 25 lb\n",
      "Fine Aggregate: 11.16374012249084 lb\n",
      "Coarse Aggregate: 29.6536847003663 lb\n",
      "Other Aggregate: 6.279603818901097 lb\n",
      "Water: 56.0 lb\n"
     ]
    }
   ],
   "source": [
    "# User Input: Target Amounts\n",
    "A4 = 65\n",
    "B = 20\n",
    "C = 30\n",
    "D = 25\n",
    "E = 0.4\n",
    "F = 6.9\n",
    "G = 16\n",
    "H = 40\n",
    "I = 8\n",
    "\n",
    "# User Input: Specific Gravity Values\n",
    "J = 0.12\n",
    "K = 0.13\n",
    "L = 0.14\n",
    "M = 0.15\n",
    "N = 0.16\n",
    "O = 0.17\n",
    "P = 0.18\n",
    "Q4 = (A4 + B + C + D) * E # weight of water\n",
    "\n",
    "# Create a function to automate the mix design\n",
    "def mix_design(A4, B, C, D, E, F, G, H, I, J, K, L, M, N, O, P, Q4):\n",
    "    \n",
    "    R = A4 / (J*62.4) #volume of cement (ft^3)\n",
    "    S = B / (K*62.4) #volume of flyash  (ft^3)\n",
    "    T = C / (L*62.4) # volume of silica fume (ft^3)\n",
    "    U = D / (M*62.4) # volume of other SCM (ft^3)\n",
    "    V = (F/100) * 27 # volume of air (ft^3)\n",
    "    W = Q4 / 62.4 # volume of water (ft^3)\n",
    "    X = 27 - R - S - T - U - V - W # volume of total aggregate\n",
    "    Y = (62.4 * (G/100)*N*X) #weight of fine aggregate\n",
    "    Z = (62.4 * (H/100)*O*X) # weight of coarse aggregate\n",
    "    AA = (62.4 * (I/100)*P*X) # weight of other aggregate\n",
    "    return(A4, B, C, D, Y, Z, AA, Q4)\n",
    "\n",
    "print(Q4)\n",
    "print(A4)\n",
    "\n",
    "# Utilize Function for Mix Design\n",
    "cement, fly_ash, silica_fume, other_scm, fine_aggregate, coarse_aggregate, other_aggregate, water = mix_design(A4, B, C, D, E, F, G, H, I, J, K, L, M, N, O, P, Q4)\n",
    "\n",
    "# Print Target Mix Design\n",
    "print(\"Contractor Target Mix Design Weights for 1 Cubic Yard:\")\n",
    "print('Cement: {} lb'.format(cement))\n",
    "print('Fly Ash: {} lb'.format(fly_ash))\n",
    "print('Silica Fume: {} lb'.format(silica_fume))\n",
    "print('Other SCM: {} lb'.format(other_scm))\n",
    "print('Fine Aggregate: {} lb'.format(fine_aggregate))\n",
    "print('Coarse Aggregate: {} lb'.format(coarse_aggregate))\n",
    "print('Other Aggregate: {} lb'.format(other_aggregate))\n",
    "print('Water: {} lb'.format(water))\n"
   ]
  },
  {
   "cell_type": "code",
   "execution_count": 117,
   "id": "27b7403e-687c-4941-8b3a-53b44470b6db",
   "metadata": {},
   "outputs": [
    {
     "name": "stdout",
     "output_type": "stream",
     "text": [
      "0.8615384615384616\n"
     ]
    }
   ],
   "source": [
    "wc_ratio4=(Q4/A4)\n",
    "print(wc_ratio4)"
   ]
  },
  {
   "cell_type": "code",
   "execution_count": 118,
   "id": "4427eebb-4dce-4d9f-9d08-c83e80c8eca9",
   "metadata": {},
   "outputs": [
    {
     "name": "stdout",
     "output_type": "stream",
     "text": [
      "40 50 60 65\n",
      "15.75 15.0 26.25 56.0\n"
     ]
    }
   ],
   "source": [
    "print(A1, A2, A3, A4)\n",
    "print(Q1, Q2, Q3, Q4)"
   ]
  },
  {
   "cell_type": "code",
   "execution_count": 119,
   "id": "bdd25b52-193a-41cd-8884-7818789c2c12",
   "metadata": {},
   "outputs": [
    {
     "name": "stdout",
     "output_type": "stream",
     "text": [
      "[0.39375, 0.42, 0.4375, 0.8615384615384616] 0.3 0.4375 0.8615384615384616\n"
     ]
    }
   ],
   "source": [
    "print(wc_ratio, wc_ratio2, wc_ratio3, wc_ratio4)"
   ]
  },
  {
   "cell_type": "code",
   "execution_count": 120,
   "id": "5e58e0c8-7235-4be5-91f1-64278818c140",
   "metadata": {},
   "outputs": [],
   "source": [
    "water=[Q1, Q2, Q3, Q4]\n",
    "cement=[A1, A2, A3, A4]"
   ]
  },
  {
   "cell_type": "code",
   "execution_count": 121,
   "id": "88222474-4ccb-433a-84f4-2b83b01c0961",
   "metadata": {},
   "outputs": [
    {
     "data": {
      "image/png": "[encoded data removed]",
      "text/plain": [
       "<Figure size 800x400 with 1 Axes>"
      ]
     },
     "metadata": {},
     "output_type": "display_data"
    },
    {
     "data": {
      "image/png": "[encoded data removed]",
      "text/plain": [
       "<Figure size 800x400 with 1 Axes>"
      ]
     },
     "metadata": {},
     "output_type": "display_data"
    },
    {
     "data": {
      "image/png": "[encoded data removed]",
      "text/plain": [
       "<Figure size 800x400 with 1 Axes>"
      ]
     },
     "metadata": {},
     "output_type": "display_data"
    }
   ],
   "source": [
    "import matplotlib.pyplot as plt\n",
    "\n",
    "water=[Q1, Q2, Q3, Q4]\n",
    "cement=[A1, A2, A3, A4]\n",
    "\n",
    "# 1. Scatter plot: Water vs Cement\n",
    "plt.figure(figsize=(8, 4))\n",
    "plt.scatter(water, cement, color='steelblue', edgecolor='black')\n",
    "plt.xlabel('Water Content (lb)')\n",
    "plt.ylabel('Cement Content (lb)')\n",
    "plt.title('Water vs Cement Content')\n",
    "plt.grid(True)\n",
    "plt.tight_layout()\n",
    "plt.show()\n",
    "\n",
    "# 2. Line plot (optional if values are sequential)\n",
    "plt.figure(figsize=(8, 4))\n",
    "plt.plot(water, cement, marker='x', linestyle='-', color='green')\n",
    "plt.xlabel('Water Content')\n",
    "plt.ylabel('Cement Content')\n",
    "plt.title('Water vs Cement (Line Plot)')\n",
    "plt.grid(True)\n",
    "plt.tight_layout()\n",
    "plt.show()\n",
    "\n",
    "# 3. Water-Cement Ratio\n",
    "wc_ratio = [w / c if c != 0 else None for w, c in zip(water, cement)]\n",
    "\n",
    "plt.figure(figsize=(8, 4))\n",
    "plt.plot(wc_ratio, cement, marker='x', color='red')\n",
    "plt.xlabel('Water-Cement Ratio')\n",
    "plt.ylabel('Cement Content')\n",
    "plt.title('Water-Cement Ratio vs Cement')\n",
    "plt.grid(True)\n",
    "plt.tight_layout()\n",
    "plt.show()\n"
   ]
  },
  {
   "cell_type": "code",
   "execution_count": null,
   "id": "f8fb8145-978e-445c-9160-2c5425219810",
   "metadata": {},
   "outputs": [],
   "source": []
  },
  {
   "cell_type": "code",
   "execution_count": null,
   "id": "c66c8912-8fdc-4590-814b-60408dd1aa5b",
   "metadata": {},
   "outputs": [],
   "source": []
  }
 ],
 "metadata": {
  "kernelspec": {
   "display_name": "anaconda-panel-2023.05-py310",
   "language": "python",
   "name": "conda-env-anaconda-panel-2023.05-py310-py"
  },
  "language_info": {
   "codemirror_mode": {
    "name": "ipython",
    "version": 3
   },
   "file_extension": ".py",
   "mimetype": "text/x-python",
   "name": "python",
   "nbconvert_exporter": "python",
   "pygments_lexer": "ipython3",
   "version": "3.11.5"
  }
 },
 "nbformat": 4,
 "nbformat_minor": 5
}
